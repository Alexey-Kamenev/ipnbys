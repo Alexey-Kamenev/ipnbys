{
 "cells": [
  {
   "cell_type": "markdown",
   "metadata": {},
   "source": [
    "# A few MNIST experiements with TensorFlow\n",
    "\n",
    "First, setup TensorFlow, numpy and other libraries:"
   ]
  },
  {
   "cell_type": "code",
   "execution_count": 1,
   "metadata": {
    "collapsed": false
   },
   "outputs": [],
   "source": [
    "import numpy as np\n",
    "import tensorflow as tf\n",
    "import matplotlib.pyplot as plot\n",
    "from IPython import display\n",
    "\n",
    "%matplotlib inline\n",
    "\n",
    "import time\n",
    "import os"
   ]
  },
  {
   "cell_type": "markdown",
   "metadata": {},
   "source": [
    "Get the data:"
   ]
  },
  {
   "cell_type": "code",
   "execution_count": 2,
   "metadata": {
    "collapsed": false,
    "scrolled": true
   },
   "outputs": [
    {
     "name": "stdout",
     "output_type": "stream",
     "text": [
      "Extracting ./data/train-images-idx3-ubyte.gz\n",
      "Extracting ./data/train-labels-idx1-ubyte.gz\n",
      "Extracting ./data/t10k-images-idx3-ubyte.gz\n",
      "Extracting ./data/t10k-labels-idx1-ubyte.gz\n"
     ]
    }
   ],
   "source": [
    "from tensorflow.contrib.learn.python.learn.datasets.mnist import read_data_sets\n",
    "mnist = read_data_sets(\"./data/\", one_hot=False)\n"
   ]
  },
  {
   "cell_type": "code",
   "execution_count": 3,
   "metadata": {
    "collapsed": false
   },
   "outputs": [],
   "source": [
    "def plotImages(images, imagesToShow = 10):\n",
    "    #plot.rcParams[\"figure.figsize\"] = 10, 10\n",
    "    imgs = images[np.random.randint(images.shape[0], size=imagesToShow)]\n",
    "    plot.imshow(np.hstack([(1.0 - i).reshape((28, 28)) for i in imgs]), cmap=\"gray\")\n",
    "    #display.display(plot.gcf())"
   ]
  },
  {
   "cell_type": "markdown",
   "metadata": {},
   "source": [
    "Examples of images from the training set:"
   ]
  },
  {
   "cell_type": "code",
   "execution_count": 4,
   "metadata": {
    "collapsed": false
   },
   "outputs": [
    {
     "data": {
      "image/png": "[encoded data removed]",
      "text/plain": [
       "<matplotlib.figure.Figure at 0x7f182c69a990>"
      ]
     },
     "metadata": {},
     "output_type": "display_data"
    }
   ],
   "source": [
    "plotImages(mnist.train.images)"
   ]
  },
  {
   "cell_type": "markdown",
   "metadata": {},
   "source": [
    "Define various layer types (inputs, fully-connected, convolutional, loss etc):"
   ]
  },
  {
   "cell_type": "code",
   "execution_count": 5,
   "metadata": {
    "collapsed": false
   },
   "outputs": [],
   "source": [
    "image_size = 28\n",
    "label_size = 10\n",
    "# Input image dimensions (single channel)\n",
    "input_dims = [image_size, image_size, 1]\n",
    "\n",
    "# Features and labels\n",
    "def inputs():\n",
    "    features = tf.placeholder(tf.float32, shape=[None] + input_dims, name=\"features\")\n",
    "    labels = tf.placeholder(tf.float32, shape=[None], name=\"labels\")\n",
    "    return features, labels\n",
    "\n",
    "# Cross-entropy loss with softmax activation function\n",
    "def ce_sm_loss(logits, labels):\n",
    "    with tf.name_scope(\"loss\"):\n",
    "        ce = tf.nn.sparse_softmax_cross_entropy_with_logits(logits, tf.cast(labels, tf.int32), name=\"ce\")\n",
    "        return tf.reduce_mean(ce, name=\"ce_mean\")\n",
    "\n",
    "# Outputs (probabilities)\n",
    "def probs_layer(logits):\n",
    "    return tf.nn.softmax(logits)\n",
    "\n",
    "# Fully-connected layer\n",
    "# Helper function\n",
    "def _fc_layer(x, size):\n",
    "    # Flatten dims for the fully-connected layer.\n",
    "    x_flat = tf.reshape(x, [-1, x.get_shape()[1:].num_elements()])\n",
    "    shape = [x_flat.get_shape()[1].value, size]\n",
    "    W = tf.Variable(tf.truncated_normal(shape, stddev=0.1), name=\"weights\")\n",
    "    b = tf.Variable(tf.constant(0.01, shape=[shape[1]]), name=\"biases\")\n",
    "    return tf.matmul(x_flat, W) + b\n",
    "\n",
    "# FC layer, no activation\n",
    "def fc_layer(x, size, name):\n",
    "    with tf.name_scope(name):\n",
    "        return _fc_layer(x, size)\n",
    "    \n",
    "# FC layer with ReLU\n",
    "def fc_relu_layer(x, size, name=''):\n",
    "    with tf.name_scope(name) as scope:\n",
    "        return tf.nn.relu(_fc_layer(x, size), name=scope)\n",
    "\n",
    "# 2D convolutional layer with ReLU\n",
    "def conv2d_relu_layer(x, kSize, mapCount=1, stride=1, name=''):\n",
    "    with tf.name_scope(name) as scope:\n",
    "        # assuming x is already a 4D tensor\n",
    "        shape = [kSize, kSize, x.get_shape()[3].value, mapCount]\n",
    "        W = tf.Variable(tf.truncated_normal(shape, stddev=0.1), name=\"weights\")\n",
    "        b = tf.Variable(tf.constant(0.01, shape=[mapCount]), name=\"biases\")\n",
    "        conv = tf.nn.conv2d(x, W, strides=[1, stride, stride, 1], padding='SAME', name=\"conv\")\n",
    "        return tf.nn.relu(conv + b, name=scope)\n",
    "\n",
    "# Spatial max pooling layer\n",
    "def max_pool(x, kSize, stride=0, name=''):\n",
    "    if stride <= 0:\n",
    "        stride = kSize\n",
    "    with tf.name_scope(name):\n",
    "        return tf.nn.max_pool(x, ksize=[1, kSize, kSize, 1], strides=[1, stride, stride, 1], \n",
    "                              padding='SAME', name=\"pool\")\n"
   ]
  },
  {
   "cell_type": "markdown",
   "metadata": {},
   "source": [
    "## Network topologies\n",
    "\n",
    "### Simple, one-hidden layer net:"
   ]
  },
  {
   "cell_type": "code",
   "execution_count": 6,
   "metadata": {
    "collapsed": true
   },
   "outputs": [],
   "source": [
    "def simple_net(features):\n",
    "    h1_size = 200\n",
    "    h1 = fc_relu_layer(features, h1_size, \"h1\")\n",
    "    return h1"
   ]
  },
  {
   "cell_type": "markdown",
   "metadata": {},
   "source": [
    "### Convolutional net:\n",
    "5 layers: `convolution -> max pool -> convolution -> max pool -> fully-connected`"
   ]
  },
  {
   "cell_type": "code",
   "execution_count": 7,
   "metadata": {
    "collapsed": true
   },
   "outputs": [],
   "source": [
    "def conv_net_01(features):\n",
    "    conv1 = conv2d_relu_layer(features, 5, 32, name='conv1')\n",
    "    pool1 = max_pool(conv1, 2, name='pool1')\n",
    "    conv2 = conv2d_relu_layer(pool1, 5, 32, name='conv2')\n",
    "    pool2 = max_pool(conv2, 2, name='pool2')\n",
    "    fc1 = fc_relu_layer(pool2, 128, 'fc1')\n",
    "    return fc1"
   ]
  },
  {
   "cell_type": "markdown",
   "metadata": {},
   "source": [
    "Graph visualization from TensorBoard:\n",
    "![conv_net_01](images/conv_01_graph.png)"
   ]
  },
  {
   "cell_type": "markdown",
   "metadata": {},
   "source": [
    "### Operations and actions\n",
    "Define operations such as training and actions like train, evaluate and so on."
   ]
  },
  {
   "cell_type": "code",
   "execution_count": 8,
   "metadata": {
    "collapsed": false
   },
   "outputs": [],
   "source": [
    "# Training step operation\n",
    "def create_train_op(loss, learning_rate, momentum):\n",
    "    tf.scalar_summary(loss.op.name, loss)\n",
    "    step = tf.train.GradientDescentOptimizer(learning_rate).minimize(loss)\n",
    "    return step\n",
    "\n",
    "def get_next_feed(dataset, batch_size, features, labels):\n",
    "    f, l = dataset.next_batch(batch_size)\n",
    "    return {features: f.reshape([batch_size] + input_dims), labels: l}\n",
    "    \n",
    "# Training action - performs training using provided train step and inputs\n",
    "def do_train(sess, train_step, loss, next_feed, batch_size, epoch_size, num_epochs, \n",
    "             summary_op, summary_writer):\n",
    "    for epoch in range(0, num_epochs):\n",
    "        epoch_loss = 0.0\n",
    "        for i in range(0, epoch_size, batch_size):\n",
    "            cur_batch_size = min(batch_size, epoch_size - i)\n",
    "            feed_dict = next_feed(cur_batch_size)\n",
    "            _, loss_val = sess.run([train_step, loss], feed_dict=feed_dict)\n",
    "            epoch_loss += np.sum(loss_val)\n",
    "            if i % 1000 == 0:\n",
    "                summary_str = sess.run(summary_op, feed_dict=feed_dict)\n",
    "                summary_writer.add_summary(summary_str, epoch * epoch_size + i)\n",
    "                summary_writer.flush()\n",
    "                \n",
    "        print \"Epoch %d: loss = %0.05f\" % (epoch, epoch_loss / epoch_size)\n",
    "        \n",
    "# Evaluation of a model on a given dataset    \n",
    "def do_eval(sess, logits, labels, next_feed, batch_size, epoch_size):\n",
    "    batch_correct = tf.reduce_sum(tf.cast(tf.nn.in_top_k(logits, tf.cast(labels, tf.int32), 1), tf.int32))\n",
    "    correct = 0\n",
    "    total = 0\n",
    "    for i in range(0, epoch_size, batch_size):\n",
    "        cur_batch_size = min(batch_size, epoch_size - i)\n",
    "        feed_dict = next_feed(cur_batch_size)\n",
    "        correct += np.sum(sess.run(batch_correct, feed_dict=feed_dict))\n",
    "        total += cur_batch_size\n",
    "\n",
    "    return total, correct\n"
   ]
  },
  {
   "cell_type": "markdown",
   "metadata": {},
   "source": [
    "Build and execute the graph:"
   ]
  },
  {
   "cell_type": "code",
   "execution_count": 17,
   "metadata": {
    "collapsed": false
   },
   "outputs": [
    {
     "name": "stdout",
     "output_type": "stream",
     "text": [
      "Epoch 0: loss = 0.00312\n",
      "Test set accuracy: 0.9809 (9809/10000)\n"
     ]
    }
   ],
   "source": [
    "def train_and_evaluate(net):\n",
    "    with tf.Graph().as_default():\n",
    "        # Build the network for training\n",
    "        features, labels = inputs()\n",
    "        \n",
    "        logits = fc_layer(net(features), label_size, \"logits\")\n",
    "        probs = probs_layer(logits)\n",
    "        loss = ce_sm_loss(logits, labels)\n",
    "\n",
    "        # Create train operation\n",
    "        train_step = create_train_op(loss, learning_rate=0.1, momentum=0)\n",
    "\n",
    "        g = tf.get_default_graph()\n",
    "        ww = g.get_tensor_by_name(\"conv1/weights:0\")\n",
    "        #ww1 = tf.transpose(tf.split(3, 32, ww)[0], [3, 0, 1, 2])\n",
    "        ww1 = tf.reshape(ww, (1, 5, 5 * 32, 1))\n",
    "        tf.image_summary(\"ww\", ww1, max_images=1)\n",
    "        \n",
    "        # Summary operation\n",
    "        summary_op = tf.merge_all_summaries()\n",
    "\n",
    "        with tf.Session() as sess:\n",
    "            # TensorBoard needs a separate folder for each run.\n",
    "            log_dir = \"/data/tf/log/\" + time.strftime(\"%Y%m%d%H%M%S\")\n",
    "            summary_writer = tf.train.SummaryWriter(log_dir, sess.graph)\n",
    "\n",
    "            sess.run(tf.initialize_all_variables())\n",
    "\n",
    "            # Train model\n",
    "            batch_size = 64\n",
    "            epoch_size = mnist.train.num_examples\n",
    "            num_epochs = 1\n",
    "            next_feed = lambda b: get_next_feed(mnist.train, b, features, labels)\n",
    "            do_train(sess, train_step, loss, next_feed, batch_size, epoch_size, num_epochs,\n",
    "                    summary_op, summary_writer)\n",
    "\n",
    "            # Evaluate model on test dataset\n",
    "            next_feed = lambda b: get_next_feed(mnist.test, b, features, labels)\n",
    "            total, correct_count = do_eval(sess, probs, labels, next_feed, 100, mnist.test.num_examples)\n",
    "            print('Test set accuracy: %0.04f (%d/%d)' % (correct_count / float(total), correct_count, total))\n",
    "\n",
    "train_and_evaluate(conv_net_01)"
   ]
  },
  {
   "cell_type": "markdown",
   "metadata": {},
   "source": [
    "#### Training fully-connected net"
   ]
  },
  {
   "cell_type": "code",
   "execution_count": 10,
   "metadata": {
    "collapsed": false,
    "scrolled": true
   },
   "outputs": [],
   "source": [
    "#train_and_evaluate(simple_net)"
   ]
  },
  {
   "cell_type": "markdown",
   "metadata": {},
   "source": [
    "Loss graph for fully-connected net (from TensorBoard):\n",
    "![fc_loss](images/fc_loss.png)"
   ]
  },
  {
   "cell_type": "markdown",
   "metadata": {},
   "source": [
    "#### Training convolutional net"
   ]
  },
  {
   "cell_type": "code",
   "execution_count": 11,
   "metadata": {
    "collapsed": false
   },
   "outputs": [],
   "source": [
    "#train_and_evaluate(conv_net_01)"
   ]
  },
  {
   "cell_type": "markdown",
   "metadata": {},
   "source": [
    "Loss graph for convolutional net (from TensorBoard):\n",
    "![fc_loss](images/conv_01_loss.png)"
   ]
  }
 ],
 "metadata": {
  "celltoolbar": "Edit Metadata",
  "kernelspec": {
   "display_name": "Python 2",
   "language": "python",
   "name": "python2"
  },
  "language_info": {
   "codemirror_mode": {
    "name": "ipython",
    "version": 2
   },
   "file_extension": ".py",
   "mimetype": "text/x-python",
   "name": "python",
   "nbconvert_exporter": "python",
   "pygments_lexer": "ipython2",
   "version": "2.7.6"
  }
 },
 "nbformat": 4,
 "nbformat_minor": 0
}
