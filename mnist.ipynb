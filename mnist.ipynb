{
 "cells": [
  {
   "cell_type": "markdown",
   "metadata": {},
   "source": [
    "# A few MNIST experiements with TensorFlow\n",
    "\n",
    "First, get the data:"
   ]
  },
  {
   "cell_type": "code",
   "execution_count": 1,
   "metadata": {
    "collapsed": false
   },
   "outputs": [],
   "source": [
    "import numpy as np\n",
    "import tensorflow as tf\n",
    "import matplotlib.pyplot as plot\n",
    "from IPython import display\n",
    "\n",
    "%matplotlib inline"
   ]
  },
  {
   "cell_type": "code",
   "execution_count": 2,
   "metadata": {
    "collapsed": false,
    "scrolled": true
   },
   "outputs": [
    {
     "name": "stdout",
     "output_type": "stream",
     "text": [
      "Extracting ./data/train-images-idx3-ubyte.gz\n",
      "Extracting ./data/train-labels-idx1-ubyte.gz\n",
      "Extracting ./data/t10k-images-idx3-ubyte.gz\n",
      "Extracting ./data/t10k-labels-idx1-ubyte.gz\n"
     ]
    }
   ],
   "source": [
    "from tensorflow.contrib.learn.python.learn.datasets.mnist import read_data_sets\n",
    "mnist = read_data_sets(\"./data/\", one_hot=False)\n"
   ]
  },
  {
   "cell_type": "code",
   "execution_count": 3,
   "metadata": {
    "collapsed": false
   },
   "outputs": [],
   "source": [
    "def plotImages(images, imagesToShow = 10):\n",
    "    #plot.rcParams[\"figure.figsize\"] = 10, 10\n",
    "    imgs = images[np.random.randint(images.shape[0], size=imagesToShow)]\n",
    "    plot.imshow(np.hstack([(1.0 - i).reshape((28, 28)) for i in imgs]), cmap=\"gray\")\n",
    "    #display.display(plot.gcf())"
   ]
  },
  {
   "cell_type": "markdown",
   "metadata": {},
   "source": [
    "Examples of images from training set:"
   ]
  },
  {
   "cell_type": "code",
   "execution_count": 4,
   "metadata": {
    "collapsed": false
   },
   "outputs": [
    {
     "data": {
      "image/png": "[encoded data removed]",
      "text/plain": [
       "<matplotlib.figure.Figure at 0x7fb74fd185d0>"
      ]
     },
     "metadata": {},
     "output_type": "display_data"
    }
   ],
   "source": [
    "plotImages(mnist.train.images)"
   ]
  },
  {
   "cell_type": "markdown",
   "metadata": {},
   "source": [
    "Define layer types:"
   ]
  },
  {
   "cell_type": "code",
   "execution_count": 13,
   "metadata": {
    "collapsed": false
   },
   "outputs": [],
   "source": [
    "image_size = 28\n",
    "label_size = 10\n",
    "# Input image dimensions (single channel)\n",
    "input_dims = [image_size, image_size, 1]\n",
    "\n",
    "# Features and labels\n",
    "def inputs():\n",
    "    features = tf.placeholder(tf.float32, shape=[None] + input_dims, name=\"features\")\n",
    "    labels = tf.placeholder(tf.float32, shape=[None], name=\"labels\")\n",
    "    return features, labels\n",
    "\n",
    "# Cross-entropy loss with softmax activation function\n",
    "def ce_sm_loss(logits, labels):\n",
    "    return tf.nn.sparse_softmax_cross_entropy_with_logits(logits, tf.cast(labels, tf.int32), name=\"loss\")\n",
    "\n",
    "# Outputs (probabilities)\n",
    "def probs_layer(logits):\n",
    "    return tf.nn.softmax(logits)\n",
    "\n",
    "# Fully-connected layer\n",
    "def fc_layer(x, size, name):\n",
    "    # Flatten dims for the fully-connected layer.\n",
    "    x_flat = tf.reshape(x, [-1, x.get_shape()[1:].num_elements()])\n",
    "    shape = [x_flat.get_shape()[1].value, size]\n",
    "    W = tf.Variable(tf.truncated_normal(shape, stddev=0.1), name=name + \"_W\")\n",
    "    b = tf.Variable(tf.constant(0.01, shape=[shape[1]]), name=name + \"_b\")\n",
    "    return tf.matmul(x_flat, W) + b\n",
    "\n",
    "# FC layer with ReLU\n",
    "def fc_relu_layer(x, size, name=''):\n",
    "    return tf.nn.relu(fc_layer(x, size, name))\n",
    "\n",
    "def conv2d_relu_layer(x, kSize, mapCount=1, stride=1, name=''):\n",
    "    # assuming x is already a 4D tensor\n",
    "    shape = [kSize, kSize, x.get_shape()[3].value, mapCount]\n",
    "    W = tf.Variable(tf.truncated_normal(shape, stddev=0.1), name=name + \"_W\")\n",
    "    conv = tf.nn.conv2d(x, W, strides=[1, stride, stride, 1], padding='SAME', name=name + '_conv')\n",
    "    return tf.nn.relu(conv)\n",
    "\n",
    "def max_pool(x, kSize, stride=0, name=''):\n",
    "    if stride <= 0:\n",
    "        stride = kSize\n",
    "    return tf.nn.max_pool(x, ksize=[1, kSize, kSize, 1], strides=[1, stride, stride, 1], \n",
    "                          padding='SAME', name=name + '_pool')\n"
   ]
  },
  {
   "cell_type": "markdown",
   "metadata": {},
   "source": [
    "## Network topologies\n",
    "\n",
    "### Simple, one-hidden layer net:"
   ]
  },
  {
   "cell_type": "code",
   "execution_count": 6,
   "metadata": {
    "collapsed": true
   },
   "outputs": [],
   "source": [
    "def simpleNet(features):\n",
    "    h1_size = 200\n",
    "    h1 = fc_relu_layer(features, h1_size, \"h1\")\n",
    "    return h1"
   ]
  },
  {
   "cell_type": "markdown",
   "metadata": {},
   "source": [
    "### Convolutional net:"
   ]
  },
  {
   "cell_type": "code",
   "execution_count": 7,
   "metadata": {
    "collapsed": true
   },
   "outputs": [],
   "source": [
    "def convNet_01(features):\n",
    "    conv1 = conv2d_relu_layer(features, 5, 32, name='conv1')\n",
    "    pool1 = max_pool(conv1, 2, name='pool1')\n",
    "    conv2 = conv2d_relu_layer(pool1, 5, 32, name='conv2')\n",
    "    pool2 = max_pool(conv2, 2, name='pool2')\n",
    "    fc1 = fc_relu_layer(pool2, 128, 'fc1')\n",
    "    return fc1"
   ]
  },
  {
   "cell_type": "markdown",
   "metadata": {},
   "source": [
    "Build the graph:"
   ]
  },
  {
   "cell_type": "code",
   "execution_count": 86,
   "metadata": {
    "collapsed": false
   },
   "outputs": [
    {
     "name": "stdout",
     "output_type": "stream",
     "text": [
      "Epoch 0: loss = 0.31633\n",
      "Test set accuracy: 0.9514 (9514/10000)\n"
     ]
    }
   ],
   "source": [
    "def do_train(sess, train_step, loss, dataset, batch_size, epoch_size, num_epochs):\n",
    "    for epoch in range(0, num_epochs):\n",
    "        epoch_loss = 0.0\n",
    "        for i in range(0, epoch_size, batch_size):\n",
    "            cur_batch_size = min(batch_size, epoch_size - i)\n",
    "            f, l = dataset.next_batch(cur_batch_size)\n",
    "            _, loss_val = sess.run([train_step, loss],\n",
    "                                   feed_dict={features: f.reshape([cur_batch_size] + input_dims), labels: l})\n",
    "            epoch_loss += np.sum(loss_val)\n",
    "        print \"Epoch %d: loss = %0.05f\" % (epoch, epoch_loss / epoch_size)\n",
    "        \n",
    "    \n",
    "def do_eval(sess, logits, labels, dataset, batch_size):\n",
    "    epoch_size = dataset.num_examples\n",
    "    batch_correct = tf.reduce_sum(tf.cast(tf.nn.in_top_k(logits, tf.cast(labels, tf.int32), 1), tf.int32))\n",
    "    correct = 0\n",
    "    total = 0\n",
    "    for i in range(0, epoch_size, batch_size):\n",
    "        cur_batch_size = min(batch_size, epoch_size - i)\n",
    "        f, l = dataset.next_batch(cur_batch_size)\n",
    "        correct += np.sum(sess.run(batch_correct, feed_dict={\n",
    "            features: f.reshape([cur_batch_size] + input_dims),\n",
    "            labels: l}))\n",
    "        total += cur_batch_size\n",
    "\n",
    "    return total, correct\n",
    "\n",
    "g = tf.Graph()\n",
    "with g.as_default():\n",
    "    features, labels = inputs()\n",
    "    \n",
    "    net1 = simpleNet(features)\n",
    "    #net1 = convNet_01(features)\n",
    "    \n",
    "    logits = fc_layer(net1, label_size, \"logits\")\n",
    "    probs = probs_layer(logits)\n",
    "    loss = ce_sm_loss(logits, labels)\n",
    "    \n",
    "    tf.scalar_summary(loss.op.name, loss)\n",
    "    \n",
    "    train_step = tf.train.GradientDescentOptimizer(0.003).minimize(loss)\n",
    "    \n",
    "    with tf.Session() as sess:\n",
    "        sess.run(tf.initialize_all_variables())\n",
    "\n",
    "        summary_writer = tf.train.SummaryWriter(\"/data/tf/log\", sess.graph)\n",
    "        summary_op = tf.merge_all_summaries()\n",
    "        \n",
    "        batch_size = 64\n",
    "        epoch_size = mnist.train.num_examples\n",
    "        num_epochs = 1\n",
    "        do_train(sess, train_step, loss, mnist.train, batch_size, epoch_size, num_epochs)\n",
    "        \n",
    "        total, correct_count = do_eval(sess, probs, labels, mnist.test, 100)\n",
    "        print('Test set accuracy: %0.04f (%d/%d)' % (correct_count / float(total), correct_count, total))\n",
    "        \n",
    "        #summary_str = sess.run(summary_op, feed_dict={\n",
    "        #        features: mnist.test.images.reshape([mnist.test.num_examples] + input_dims),\n",
    "        #        labels: mnist.test.labels})\n",
    "        #summary_writer.add_summary(summary_str, 1)\n",
    "        \n",
    "        "
   ]
  }
 ],
 "metadata": {
  "celltoolbar": "Edit Metadata",
  "kernelspec": {
   "display_name": "Python 2",
   "language": "python",
   "name": "python2"
  },
  "language_info": {
   "codemirror_mode": {
    "name": "ipython",
    "version": 2
   },
   "file_extension": ".py",
   "mimetype": "text/x-python",
   "name": "python",
   "nbconvert_exporter": "python",
   "pygments_lexer": "ipython2",
   "version": "2.7.6"
  }
 },
 "nbformat": 4,
 "nbformat_minor": 0
}
