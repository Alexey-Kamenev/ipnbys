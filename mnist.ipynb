{
 "cells": [
  {
   "cell_type": "markdown",
   "metadata": {},
   "source": [
    "# A few MNIST experiements with TensorFlow\n",
    "\n",
    "First, get the data:"
   ]
  },
  {
   "cell_type": "code",
   "execution_count": 2,
   "metadata": {
    "collapsed": false
   },
   "outputs": [],
   "source": [
    "import numpy as np\n",
    "import tensorflow as tf\n",
    "import matplotlib.pyplot as plot\n",
    "from IPython import display\n",
    "\n",
    "%matplotlib inline"
   ]
  },
  {
   "cell_type": "code",
   "execution_count": 3,
   "metadata": {
    "collapsed": false,
    "scrolled": true
   },
   "outputs": [
    {
     "name": "stdout",
     "output_type": "stream",
     "text": [
      "Extracting ./data/train-images-idx3-ubyte.gz\n",
      "Extracting ./data/train-labels-idx1-ubyte.gz\n",
      "Extracting ./data/t10k-images-idx3-ubyte.gz\n",
      "Extracting ./data/t10k-labels-idx1-ubyte.gz\n"
     ]
    }
   ],
   "source": [
    "from tensorflow.contrib.learn.python.learn.datasets.mnist import read_data_sets\n",
    "mnist = read_data_sets(\"./data/\", one_hot=True)\n"
   ]
  },
  {
   "cell_type": "code",
   "execution_count": 4,
   "metadata": {
    "collapsed": false
   },
   "outputs": [],
   "source": [
    "def plotImages(images, imagesToShow = 10):\n",
    "    #plot.rcParams[\"figure.figsize\"] = 10, 10\n",
    "    imgs = images[np.random.randint(images.shape[0], size=imagesToShow)]\n",
    "    plot.imshow(np.hstack([(1.0 - i).reshape((28, 28)) for i in imgs]), cmap=\"gray\")\n",
    "    #display.display(plot.gcf())"
   ]
  },
  {
   "cell_type": "markdown",
   "metadata": {},
   "source": [
    "Examples of images from training set:"
   ]
  },
  {
   "cell_type": "code",
   "execution_count": 5,
   "metadata": {
    "collapsed": false
   },
   "outputs": [
    {
     "data": {
      "image/png": "[encoded data removed]",
      "text/plain": [
       "<matplotlib.figure.Figure at 0x7ff9f0d0b790>"
      ]
     },
     "metadata": {},
     "output_type": "display_data"
    }
   ],
   "source": [
    "plotImages(mnist.train.images)"
   ]
  },
  {
   "cell_type": "markdown",
   "metadata": {},
   "source": [
    "Define layer types:"
   ]
  },
  {
   "cell_type": "code",
   "execution_count": 31,
   "metadata": {
    "collapsed": false
   },
   "outputs": [],
   "source": [
    "image_size = 28\n",
    "label_size = 10\n",
    "\n",
    "# Features and labels\n",
    "def inputs():\n",
    "    features = tf.placeholder(tf.float32, shape=[None, image_size, image_size, 1], name=\"features\")\n",
    "    labels = tf.placeholder(tf.float32, shape=[None, 10], name=\"labels\")\n",
    "    return features, labels\n",
    "\n",
    "# Cross-entropy loss\n",
    "def loss(probs, labels):\n",
    "    return tf.reduce_mean(-tf.reduce_sum(labels * tf.log(probs), reduction_indices=[1]),\n",
    "                          name=\"loss\")\n",
    "\n",
    "# Outputs (probabilities)\n",
    "def probs(logits):\n",
    "    return tf.nn.softmax(logits)\n",
    "\n",
    "# Fully-connected layer\n",
    "def fc_layer(x, size, name):\n",
    "    # Flatten dims for the fully-connected layer.\n",
    "    x_flat = tf.reshape(x, [-1, x.get_shape()[1:].num_elements()])\n",
    "    shape = [x_flat.get_shape()[1].value, size]\n",
    "    W = tf.Variable(tf.truncated_normal(shape, stddev=0.1), name=name + \"_W\")\n",
    "    b = tf.Variable(tf.constant(0.01, shape=[shape[1]]), name=name + \"_b\")\n",
    "    return tf.matmul(x_flat, W) + b\n",
    "\n",
    "# FC layer with ReLU\n",
    "def fc_relu_layer(x, size, name):\n",
    "    return tf.nn.relu(fc_layer(x, size, name))\n",
    "\n",
    "def conv2d_relu_layer(x, kSize, mapCount=1, stride=1, name=''):\n",
    "    # assuming x is already a 4D tensor\n",
    "    shape = [kSize, kSize, x.get_shape()[3].value, mapCount]\n",
    "    W = tf.Variable(tf.truncated_normal(shape, stddev=0.1), name=name + \"_W\")\n",
    "    conv = tf.nn.conv2d(x, W, strides=[1, stride, stride, 1], padding='SAME', name=name + '_conv')\n",
    "    return tf.nn.relu(conv)\n",
    "    "
   ]
  },
  {
   "cell_type": "markdown",
   "metadata": {},
   "source": [
    "## Network topologies\n",
    "\n",
    "### Simple, one-hidden layer net:"
   ]
  },
  {
   "cell_type": "code",
   "execution_count": 23,
   "metadata": {
    "collapsed": true
   },
   "outputs": [],
   "source": [
    "def simpleNet(features):\n",
    "    h1_size = 200\n",
    "    h1 = fc_relu_layer(features, h1_size, \"h1\")\n",
    "    return h1"
   ]
  },
  {
   "cell_type": "markdown",
   "metadata": {},
   "source": [
    "### Convolutional net:"
   ]
  },
  {
   "cell_type": "code",
   "execution_count": 24,
   "metadata": {
    "collapsed": true
   },
   "outputs": [],
   "source": [
    "def convNet_01(features):\n",
    "    c1 = conv2d_relu_layer(features, 5, 32, name='c1')\n",
    "    return c1"
   ]
  },
  {
   "cell_type": "markdown",
   "metadata": {},
   "source": [
    "Build the graph:"
   ]
  },
  {
   "cell_type": "code",
   "execution_count": 32,
   "metadata": {
    "collapsed": false
   },
   "outputs": [
    {
     "name": "stdout",
     "output_type": "stream",
     "text": [
      "0.9717\n"
     ]
    }
   ],
   "source": [
    "g = tf.Graph()\n",
    "with g.as_default():\n",
    "    features, labels = inputs()\n",
    "    \n",
    "    #net1 = simpleNet(features)\n",
    "    net1 = convNet_01(features)\n",
    "    \n",
    "    logits = fc_layer(net1, label_size, \"logits\")\n",
    "    probs = probs(logits)\n",
    "    loss = loss(probs, labels)\n",
    "    \n",
    "    tf.scalar_summary(loss.op.name, loss)\n",
    "    \n",
    "    train_step = tf.train.GradientDescentOptimizer(0.5).minimize(loss)\n",
    "    \n",
    "    with tf.Session() as sess:\n",
    "        sess.run(tf.initialize_all_variables())\n",
    "\n",
    "        summary_writer = tf.train.SummaryWriter(\"/data/tf/log\", sess.graph)\n",
    "        summary_op = tf.merge_all_summaries()\n",
    "        \n",
    "        batch_size = 64\n",
    "        epoch_size =  mnist.train.num_examples / batch_size\n",
    "        num_epochs = 1\n",
    "        for i in range(0, num_epochs * epoch_size):\n",
    "            f, l = mnist.train.next_batch(64)\n",
    "            sess.run(train_step, feed_dict={features: f.reshape(batch_size, image_size, image_size, 1), labels: l})\n",
    "\n",
    "        correct_preds = tf.equal(tf.argmax(probs, 1), tf.argmax(labels, 1))\n",
    "        accuracy = tf.reduce_mean(tf.cast(correct_preds, tf.float32))\n",
    "\n",
    "        print sess.run(accuracy, feed_dict={\n",
    "                features: mnist.test.images.reshape(mnist.test.num_examples, image_size, image_size, 1),\n",
    "                labels: mnist.test.labels})\n",
    "\n",
    "        summary_str = sess.run(summary_op, feed_dict={\n",
    "                features: mnist.test.images.reshape(mnist.test.num_examples, image_size, image_size, 1),\n",
    "                labels: mnist.test.labels})\n",
    "        summary_writer.add_summary(summary_str, 1)\n",
    "        \n",
    "        "
   ]
  }
 ],
 "metadata": {
  "celltoolbar": "Edit Metadata",
  "kernelspec": {
   "display_name": "Python 2",
   "language": "python",
   "name": "python2"
  },
  "language_info": {
   "codemirror_mode": {
    "name": "ipython",
    "version": 2
   },
   "file_extension": ".py",
   "mimetype": "text/x-python",
   "name": "python",
   "nbconvert_exporter": "python",
   "pygments_lexer": "ipython2",
   "version": "2.7.6"
  }
 },
 "nbformat": 4,
 "nbformat_minor": 0
}
